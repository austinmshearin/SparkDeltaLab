{
    "cells": [
        {
            "cell_type": "code",
            "execution_count": null,
            "id": "850577d7-52e0-4129-b934-960c53003e64",
            "metadata": {},
            "outputs": [],
            "source": [
                "import delta_analytics.df_stats as df_stats\n",
                "import pyspark\n",
                "import pyspark.sql.functions as F\n",
                "import pyspark.sql.types as T"
            ]
        },
        {
            "cell_type": "code",
            "execution_count": null,
            "id": "3872091a-56dc-4fe5-8dbb-5bfca9dc2325",
            "metadata": {},
            "outputs": [],
            "source": [
                "spark = pyspark.sql.SparkSession.builder.getOrCreate()"
            ]
        },
        {
            "cell_type": "code",
            "execution_count": null,
            "id": "b1227bbf-b04d-443e-8d50-65932308466b",
            "metadata": {},
            "outputs": [],
            "source": [
                "schema = T.StructType([\n",
                "    T.StructField(\"boolean_field_1\", T.BooleanType(), True),\n",
                "    T.StructField(\"boolean_field_2\", T.BooleanType(), True),\n",
                "    T.StructField(\"boolean_field_3\", T.BooleanType(), True),\n",
                "    T.StructField(\"integer_field_1\", T.IntegerType(), True),\n",
                "    T.StructField(\"integer_field_2\", T.IntegerType(), True),\n",
                "    T.StructField(\"integer_field_3\", T.IntegerType(), True),\n",
                "    T.StructField(\"float_field_1\", T.DoubleType(), True),\n",
                "    T.StructField(\"float_field_2\", T.DoubleType(), True),\n",
                "    T.StructField(\"float_field_3\", T.DoubleType(), True),\n",
                "    T.StructField(\"string_field_1\", T.StringType(), True),\n",
                "    T.StructField(\"string_field_2\", T.StringType(), True),\n",
                "    T.StructField(\"string_field_3\", T.StringType(), True),\n",
                "    T.StructField(\"string_field_4\", T.StringType(), True),\n",
                "    T.StructField(\"string_field_5\", T.StringType(), True),\n",
                "])"
            ]
        },
        {
            "cell_type": "code",
            "execution_count": null,
            "id": "e2c58345-08cf-4884-b564-067697b1a375",
            "metadata": {},
            "outputs": [],
            "source": [
                "df = spark.createDataFrame(\n",
                "    [\n",
                "        [True, True, None, 1, 1, None, 1.0, 1.0, None, \"A\", \"a\", \"a\", \"1\", None],\n",
                "        [True, True, None, 2, 1, None, 2.0, 1.0, None, \"B\", \"a\", \"a b\", \"1\", None],\n",
                "        [True, True, None, 3, 1, None, 3.001, 1.0, None, \"c\", \"1\", \"a b\\r\", \"2\\t\", None],\n",
                "        [False, True, None, 4, 1, None, 4.0000, 1.0, None, \"d\", \"\", \" \", \"2-\", None],\n",
                "        [None, True, None, None, 1, None, None, 1.0, None, \"1\", None, None, \"\", None]\n",
                "    ],\n",
                "    schema\n",
                ")"
            ]
        },
        {
            "cell_type": "code",
            "execution_count": null,
            "id": "8a9d5007-4e53-4af1-91a9-6a51d2bbf682",
            "metadata": {},
            "outputs": [],
            "source": [
                "display(df.toPandas())"
            ]
        },
        {
            "cell_type": "code",
            "execution_count": null,
            "id": "6546ccb3-5072-4ff6-a2a9-e3e3a6e1e6d9",
            "metadata": {},
            "outputs": [],
            "source": [
                "stats, schema = df_stats.descriptive_statistics(df)\n",
                "df_stats = spark.createDataFrame(stats, schema)"
            ]
        },
        {
            "cell_type": "code",
            "execution_count": null,
            "id": "c8bb55d5-e391-4b1d-b638-b3e32cac1bf8",
            "metadata": {},
            "outputs": [],
            "source": [
                "display(df_stats.toPandas())"
            ]
        },
        {
            "cell_type": "code",
            "execution_count": null,
            "id": "92a316f9-b8a8-4417-9ada-a98bbfbf81a7",
            "metadata": {},
            "outputs": [],
            "source": []
        }
    ],
    "metadata": {},
    "nbformat": 4,
    "nbformat_minor": 5
}