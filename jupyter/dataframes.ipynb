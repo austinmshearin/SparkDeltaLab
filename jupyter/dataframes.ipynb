{
 "cells": [
  {
   "cell_type": "markdown",
   "id": "2bb98e66-9b05-407d-9e4a-78822124d0f3",
   "metadata": {},
   "source": [
    "# <u>Imports</u>"
   ]
  },
  {
   "cell_type": "code",
   "execution_count": 6,
   "id": "a769131b-8441-4a61-aabc-ce1175437427",
   "metadata": {},
   "outputs": [],
   "source": [
    "import pyspark\n",
    "from pyspark.sql import Row\n",
    "import pyspark.sql.types as T\n",
    "import pyspark.sql.functions as F"
   ]
  },
  {
   "cell_type": "markdown",
   "id": "558a91bf-e185-41b4-ad43-51e7feeeb574",
   "metadata": {},
   "source": [
    "# Spark Context"
   ]
  },
  {
   "cell_type": "code",
   "execution_count": 2,
   "id": "919b29d3-b624-495f-8ed3-2c93bace99bd",
   "metadata": {},
   "outputs": [],
   "source": [
    "spark = pyspark.sql.SparkSession.builder.getOrCreate()"
   ]
  },
  {
   "cell_type": "markdown",
   "id": "a7dd504c-cc12-4b3b-95ea-2cea9543c51c",
   "metadata": {},
   "source": [
    "# <u>Creating DataFrames</u>"
   ]
  },
  {
   "cell_type": "markdown",
   "id": "2f6db460-9e45-4d41-83dd-b17765884065",
   "metadata": {},
   "source": [
    "## Defined Schema"
   ]
  },
  {
   "cell_type": "code",
   "execution_count": 9,
   "id": "9e05bde4-f8b6-49a3-804c-418faa5094ba",
   "metadata": {},
   "outputs": [
    {
     "data": {
      "text/html": [
       "<div>\n",
       "<style scoped>\n",
       "    .dataframe tbody tr th:only-of-type {\n",
       "        vertical-align: middle;\n",
       "    }\n",
       "\n",
       "    .dataframe tbody tr th {\n",
       "        vertical-align: top;\n",
       "    }\n",
       "\n",
       "    .dataframe thead th {\n",
       "        text-align: right;\n",
       "    }\n",
       "</style>\n",
       "<table border=\"1\" class=\"dataframe\">\n",
       "  <thead>\n",
       "    <tr style=\"text-align: right;\">\n",
       "      <th></th>\n",
       "      <th>string_field</th>\n",
       "      <th>integer_field</th>\n",
       "      <th>float_field</th>\n",
       "      <th>boolean_field</th>\n",
       "      <th>array_field</th>\n",
       "      <th>struct_field</th>\n",
       "    </tr>\n",
       "  </thead>\n",
       "  <tbody>\n",
       "    <tr>\n",
       "      <th>0</th>\n",
       "      <td>a</td>\n",
       "      <td>1</td>\n",
       "      <td>1.1</td>\n",
       "      <td>True</td>\n",
       "      <td>[b]</td>\n",
       "      <td>(c,)</td>\n",
       "    </tr>\n",
       "    <tr>\n",
       "      <th>1</th>\n",
       "      <td>d</td>\n",
       "      <td>2</td>\n",
       "      <td>2.1</td>\n",
       "      <td>False</td>\n",
       "      <td>[e, f]</td>\n",
       "      <td>(g,)</td>\n",
       "    </tr>\n",
       "  </tbody>\n",
       "</table>\n",
       "</div>"
      ],
      "text/plain": [
       "  string_field  integer_field  float_field  boolean_field array_field  \\\n",
       "0            a              1          1.1           True         [b]   \n",
       "1            d              2          2.1          False      [e, f]   \n",
       "\n",
       "  struct_field  \n",
       "0         (c,)  \n",
       "1         (g,)  "
      ]
     },
     "metadata": {},
     "output_type": "display_data"
    }
   ],
   "source": [
    "schema = T.StructType([\n",
    "    T.StructField(\"string_field\", T.StringType(), True),\n",
    "    T.StructField(\"integer_field\", T.IntegerType(), True),\n",
    "    T.StructField(\"float_field\", T.DoubleType(), True),\n",
    "    T.StructField(\"boolean_field\", T.BooleanType(), True),\n",
    "    T.StructField(\"array_field\", T.ArrayType(T.StringType()), True),\n",
    "    T.StructField(\"struct_field\", T.StructType([\n",
    "        T.StructField(\"sub_field\", T.StringType(), True)\n",
    "    ]))\n",
    "])\n",
    "df_1 = spark.createDataFrame(\n",
    "    [\n",
    "        [\"a\", 1, 1.1, True, [\"b\"], {\"sub_field\": \"c\"}],\n",
    "        [\"d\", 2, 2.1, False, [\"e\", \"f\"], {\"sub_field\": \"g\"}]\n",
    "    ],\n",
    "    schema\n",
    ")\n",
    "display(df_1.toPandas())"
   ]
  },
  {
   "cell_type": "markdown",
   "id": "c1aa0c58-ab57-4fc9-b8f5-e171378032ec",
   "metadata": {},
   "source": [
    "## Inferred Schema"
   ]
  },
  {
   "cell_type": "code",
   "execution_count": 10,
   "id": "4c68cd53-fc55-4c25-8751-c1dfd31b79a4",
   "metadata": {},
   "outputs": [
    {
     "data": {
      "text/html": [
       "<div>\n",
       "<style scoped>\n",
       "    .dataframe tbody tr th:only-of-type {\n",
       "        vertical-align: middle;\n",
       "    }\n",
       "\n",
       "    .dataframe tbody tr th {\n",
       "        vertical-align: top;\n",
       "    }\n",
       "\n",
       "    .dataframe thead th {\n",
       "        text-align: right;\n",
       "    }\n",
       "</style>\n",
       "<table border=\"1\" class=\"dataframe\">\n",
       "  <thead>\n",
       "    <tr style=\"text-align: right;\">\n",
       "      <th></th>\n",
       "      <th>name</th>\n",
       "      <th>age</th>\n",
       "      <th>city</th>\n",
       "    </tr>\n",
       "  </thead>\n",
       "  <tbody>\n",
       "    <tr>\n",
       "      <th>0</th>\n",
       "      <td>Alice</td>\n",
       "      <td>25</td>\n",
       "      <td>New York</td>\n",
       "    </tr>\n",
       "    <tr>\n",
       "      <th>1</th>\n",
       "      <td>Bob</td>\n",
       "      <td>30</td>\n",
       "      <td>San Francisco</td>\n",
       "    </tr>\n",
       "    <tr>\n",
       "      <th>2</th>\n",
       "      <td>Charlie</td>\n",
       "      <td>35</td>\n",
       "      <td>Los Angeles</td>\n",
       "    </tr>\n",
       "  </tbody>\n",
       "</table>\n",
       "</div>"
      ],
      "text/plain": [
       "      name  age           city\n",
       "0    Alice   25       New York\n",
       "1      Bob   30  San Francisco\n",
       "2  Charlie   35    Los Angeles"
      ]
     },
     "metadata": {},
     "output_type": "display_data"
    }
   ],
   "source": [
    "data = [Row(name=\"Alice\", age=25, city=\"New York\"),\n",
    "        Row(name=\"Bob\", age=30, city=\"San Francisco\"),\n",
    "        Row(name=\"Charlie\", age=35, city=\"Los Angeles\")]\n",
    "df_2 = spark.createDataFrame(data)\n",
    "display(df_2.toPandas())"
   ]
  },
  {
   "cell_type": "markdown",
   "id": "7a147ec2-812c-424b-bbae-8df31ddeae5e",
   "metadata": {},
   "source": [
    "# <u>Querying DataFrames</u>"
   ]
  },
  {
   "cell_type": "markdown",
   "id": "053dd16f-7598-44c5-87ee-c9006a219ef7",
   "metadata": {},
   "source": [
    "## Select"
   ]
  },
  {
   "cell_type": "code",
   "execution_count": 14,
   "id": "c5ea636e-0391-4c18-8c8e-79d55b5ed15d",
   "metadata": {},
   "outputs": [
    {
     "name": "stdout",
     "output_type": "stream",
     "text": [
      "+-------+---+\n",
      "|   name|age|\n",
      "+-------+---+\n",
      "|  Alice| 25|\n",
      "|    Bob| 30|\n",
      "|Charlie| 35|\n",
      "+-------+---+\n",
      "\n"
     ]
    }
   ],
   "source": [
    "result = df_2.select(\"name\", \"age\")\n",
    "result.show()"
   ]
  },
  {
   "cell_type": "markdown",
   "id": "62c3b235-4df2-45aa-9337-f3a315847383",
   "metadata": {},
   "source": [
    "## Where"
   ]
  },
  {
   "cell_type": "code",
   "execution_count": 19,
   "id": "f2543422-1fae-4a6e-a4c2-ebf5bc7f7625",
   "metadata": {},
   "outputs": [
    {
     "name": "stdout",
     "output_type": "stream",
     "text": [
      "+-------+---+-----------+\n",
      "|   name|age|       city|\n",
      "+-------+---+-----------+\n",
      "|Charlie| 35|Los Angeles|\n",
      "+-------+---+-----------+\n",
      "\n"
     ]
    }
   ],
   "source": [
    "result = df_2.where(df_2.age > 30)\n",
    "result.show()"
   ]
  },
  {
   "cell_type": "code",
   "execution_count": 20,
   "id": "035e9706-ea38-4ea7-acb0-6bba704ae485",
   "metadata": {},
   "outputs": [
    {
     "name": "stdout",
     "output_type": "stream",
     "text": [
      "+------------+-------------+-----------+-------------+-----------+------------+\n",
      "|string_field|integer_field|float_field|boolean_field|array_field|struct_field|\n",
      "+------------+-------------+-----------+-------------+-----------+------------+\n",
      "|           d|            2|        2.1|        false|     [e, f]|         {g}|\n",
      "+------------+-------------+-----------+-------------+-----------+------------+\n",
      "\n"
     ]
    }
   ],
   "source": [
    "result = df_1.where(F.array_contains(df_1.array_field, \"e\"))\n",
    "result.show()"
   ]
  },
  {
   "cell_type": "code",
   "execution_count": 21,
   "id": "958c78ef-9851-4431-a8b2-e9447dad7fe3",
   "metadata": {},
   "outputs": [
    {
     "name": "stdout",
     "output_type": "stream",
     "text": [
      "+-----+---+--------+\n",
      "| name|age|    city|\n",
      "+-----+---+--------+\n",
      "|Alice| 25|New York|\n",
      "+-----+---+--------+\n",
      "\n"
     ]
    }
   ],
   "source": [
    "result = df_2.where(df_2.city.contains(\"York\"))\n",
    "result.show()"
   ]
  },
  {
   "cell_type": "markdown",
   "id": "fc34d4c5-c617-40a8-949c-c51d62da5ed7",
   "metadata": {},
   "source": [
    "## OrderBy"
   ]
  },
  {
   "cell_type": "code",
   "execution_count": 16,
   "id": "23f0b223-b86a-42b1-b29a-bbf92f37701e",
   "metadata": {},
   "outputs": [
    {
     "name": "stdout",
     "output_type": "stream",
     "text": [
      "+-------+---+-------------+\n",
      "|   name|age|         city|\n",
      "+-------+---+-------------+\n",
      "|  Alice| 25|     New York|\n",
      "|    Bob| 30|San Francisco|\n",
      "|Charlie| 35|  Los Angeles|\n",
      "+-------+---+-------------+\n",
      "\n"
     ]
    }
   ],
   "source": [
    "result = df_2.orderBy(\"age\")\n",
    "result.show()"
   ]
  },
  {
   "cell_type": "markdown",
   "id": "cf7c2294-2a5e-4325-9fb6-044f76087592",
   "metadata": {},
   "source": [
    "## Distinct"
   ]
  },
  {
   "cell_type": "code",
   "execution_count": 22,
   "id": "7747cbae-2084-4bb8-b47e-f719a3156ae1",
   "metadata": {},
   "outputs": [
    {
     "name": "stdout",
     "output_type": "stream",
     "text": [
      "+-------------+\n",
      "|         city|\n",
      "+-------------+\n",
      "|     New York|\n",
      "|San Francisco|\n",
      "|  Los Angeles|\n",
      "+-------------+\n",
      "\n"
     ]
    }
   ],
   "source": [
    "result = df_2.select(\"city\").distinct()\n",
    "result.show()"
   ]
  },
  {
   "cell_type": "markdown",
   "id": "d598c924-ecb5-4a43-8853-ccb7a7b3c418",
   "metadata": {},
   "source": [
    "## Count"
   ]
  },
  {
   "cell_type": "code",
   "execution_count": 24,
   "id": "f9e18c69-8d1c-4f59-ac72-973633e2aad2",
   "metadata": {},
   "outputs": [
    {
     "name": "stdout",
     "output_type": "stream",
     "text": [
      "2\n"
     ]
    }
   ],
   "source": [
    "result = df_1.count()\n",
    "print(result)"
   ]
  },
  {
   "cell_type": "markdown",
   "id": "f22b2940-aa8b-468d-bab6-62582ac57988",
   "metadata": {},
   "source": [
    "## Limit"
   ]
  },
  {
   "cell_type": "code",
   "execution_count": 25,
   "id": "b345f8d7-44e8-449d-aa9b-7efb96b1a1b5",
   "metadata": {},
   "outputs": [
    {
     "name": "stdout",
     "output_type": "stream",
     "text": [
      "+-----+---+-------------+\n",
      "| name|age|         city|\n",
      "+-----+---+-------------+\n",
      "|Alice| 25|     New York|\n",
      "|  Bob| 30|San Francisco|\n",
      "+-----+---+-------------+\n",
      "\n"
     ]
    }
   ],
   "source": [
    "result = df_2.limit(2)\n",
    "result.show()"
   ]
  },
  {
   "cell_type": "markdown",
   "id": "a3ca0c70-4766-46bf-ac3b-47ccfef686f4",
   "metadata": {},
   "source": [
    "## Retrieve Value"
   ]
  },
  {
   "cell_type": "code",
   "execution_count": 34,
   "id": "af3ef733-161d-416f-97a6-95f2c5c53375",
   "metadata": {},
   "outputs": [
    {
     "name": "stdout",
     "output_type": "stream",
     "text": [
      "New York\n"
     ]
    }
   ],
   "source": [
    "result = df_2.where(df_2.name == \"Alice\").select(\"city\").collect()[0][0]\n",
    "print(result)"
   ]
  },
  {
   "cell_type": "code",
   "execution_count": 36,
   "id": "06e29518-7045-418d-ac52-c71efc6bb757",
   "metadata": {},
   "outputs": [
    {
     "name": "stdout",
     "output_type": "stream",
     "text": [
      "New York\n"
     ]
    }
   ],
   "source": [
    "result = df_2.where(df_2.name == \"Alice\").first()[\"city\"]\n",
    "print(result)"
   ]
  },
  {
   "cell_type": "markdown",
   "id": "d44eccc6-c8b0-4882-8b53-581549e2e8d8",
   "metadata": {},
   "source": [
    "## ToPandas"
   ]
  },
  {
   "cell_type": "code",
   "execution_count": 26,
   "id": "59d81bc6-bc59-4bd5-a38d-e8256b440002",
   "metadata": {},
   "outputs": [
    {
     "name": "stdout",
     "output_type": "stream",
     "text": [
      "  string_field  integer_field  float_field  boolean_field array_field  \\\n",
      "0            a              1          1.1           True         [b]   \n",
      "1            d              2          2.1          False      [e, f]   \n",
      "\n",
      "  struct_field  \n",
      "0         (c,)  \n",
      "1         (g,)  \n"
     ]
    }
   ],
   "source": [
    "result = df_1.toPandas()\n",
    "print(result)"
   ]
  },
  {
   "cell_type": "markdown",
   "id": "0836aa63-270b-4e5b-a435-abbabc6e898d",
   "metadata": {},
   "source": [
    "## ToJSON"
   ]
  },
  {
   "cell_type": "code",
   "execution_count": 32,
   "id": "01c63b10-4b06-4d66-a740-065de0fdc3d4",
   "metadata": {},
   "outputs": [
    {
     "name": "stdout",
     "output_type": "stream",
     "text": [
      "['{\"string_field\":\"a\",\"integer_field\":1,\"float_field\":1.1,\"boolean_field\":true,\"array_field\":[\"b\"],\"struct_field\":{\"sub_field\":\"c\"}}', '{\"string_field\":\"d\",\"integer_field\":2,\"float_field\":2.1,\"boolean_field\":false,\"array_field\":[\"e\",\"f\"],\"struct_field\":{\"sub_field\":\"g\"}}']\n"
     ]
    }
   ],
   "source": [
    "result = df_1.toJSON().collect()\n",
    "print(result)"
   ]
  },
  {
   "cell_type": "markdown",
   "id": "ccc03756-de0a-4edf-84a3-d946bc19987f",
   "metadata": {},
   "source": [
    "# <u>DataFrame Manipulations</u>"
   ]
  },
  {
   "cell_type": "markdown",
   "id": "c59e43fd-6be4-4373-a198-05e29ca575c7",
   "metadata": {},
   "source": [
    "## WithColumn"
   ]
  },
  {
   "cell_type": "code",
   "execution_count": null,
   "id": "94856b63-d3e8-4630-9468-ddbf34a963ea",
   "metadata": {},
   "outputs": [],
   "source": []
  },
  {
   "cell_type": "markdown",
   "id": "a6573aaa-698b-460b-bb65-e77abedfd71d",
   "metadata": {},
   "source": [
    "## DropDuplicates"
   ]
  },
  {
   "cell_type": "code",
   "execution_count": null,
   "id": "0ae9eb52-0d9c-421b-a3de-004aaaef15be",
   "metadata": {},
   "outputs": [],
   "source": []
  },
  {
   "cell_type": "markdown",
   "id": "71bbea5b-b55f-499e-9dca-904cf146bdc6",
   "metadata": {},
   "source": [
    "## Explode"
   ]
  },
  {
   "cell_type": "code",
   "execution_count": null,
   "id": "5ec8faf5-eaf9-49ba-919b-eec555a161df",
   "metadata": {},
   "outputs": [],
   "source": []
  },
  {
   "cell_type": "markdown",
   "id": "8619a31c-88f5-4eaa-aa84-095cb97a0222",
   "metadata": {},
   "source": [
    "## GroupBy"
   ]
  },
  {
   "cell_type": "code",
   "execution_count": null,
   "id": "525f9e42-c7fb-417c-abd5-2d77efbddb2d",
   "metadata": {},
   "outputs": [],
   "source": []
  },
  {
   "cell_type": "markdown",
   "id": "207ba36f-4aa3-43c0-b6a1-a3400c4ce78b",
   "metadata": {},
   "source": [
    "## Pivot"
   ]
  },
  {
   "cell_type": "code",
   "execution_count": null,
   "id": "d45d4408-0ca1-4068-b9e5-a17acd7f9814",
   "metadata": {},
   "outputs": [],
   "source": []
  },
  {
   "cell_type": "markdown",
   "id": "9db860d9-bccd-4412-bc98-943e124e0c36",
   "metadata": {},
   "source": [
    "## Drop"
   ]
  },
  {
   "cell_type": "code",
   "execution_count": null,
   "id": "04c31520-87c7-4f65-8857-43414226332e",
   "metadata": {},
   "outputs": [],
   "source": []
  },
  {
   "cell_type": "markdown",
   "id": "4ce33796-9ba6-4618-8914-48da117478e6",
   "metadata": {},
   "source": [
    "# <u>DataFrame Operations</u>"
   ]
  },
  {
   "cell_type": "markdown",
   "id": "4fa1beb0-0f8e-4d3f-86d2-e22c0436a1cf",
   "metadata": {},
   "source": [
    "# Join"
   ]
  },
  {
   "cell_type": "code",
   "execution_count": null,
   "id": "4efdbbd7-1fe9-4661-af49-4dfbaeef618c",
   "metadata": {},
   "outputs": [],
   "source": []
  },
  {
   "cell_type": "markdown",
   "id": "56eea3c3-0b49-4f62-9f48-03efdce38542",
   "metadata": {},
   "source": [
    "## Union"
   ]
  },
  {
   "cell_type": "code",
   "execution_count": null,
   "id": "feef1fe8-e7df-49fb-ac97-102597811b8d",
   "metadata": {},
   "outputs": [],
   "source": []
  }
 ],
 "metadata": {
  "kernelspec": {
   "display_name": "SparkDeltaLab_VirEnv",
   "language": "python",
   "name": "python3"
  },
  "language_info": {
   "codemirror_mode": {
    "name": "ipython",
    "version": 3
   },
   "file_extension": ".py",
   "mimetype": "text/x-python",
   "name": "python",
   "nbconvert_exporter": "python",
   "pygments_lexer": "ipython3",
   "version": "3.10.11"
  }
 },
 "nbformat": 4,
 "nbformat_minor": 5
}
